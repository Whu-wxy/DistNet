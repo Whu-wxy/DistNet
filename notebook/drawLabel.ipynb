{
 "cells": [
  {
   "cell_type": "code",
   "execution_count": 1,
   "metadata": {},
   "outputs": [],
   "source": [
    "from dataset.CurveDataset import CurveDataset\n",
    "import torch\n",
    "import config\n",
    "from utils.utils import show_img\n",
    "from torch.utils.data import DataLoader\n",
    "import matplotlib.pyplot as plt\n",
    "from torchvision import transforms\n",
    "from dataset.data_utils import DataLoaderX\n",
    "from collections import Counter\n",
    "import cv2\n",
    "import numpy as np\n",
    "\n",
    "train_data = CurveDataset('F:\\zzxs\\DistanceNet\\imgs\\CTW', data_shape=config.data_shape,\n",
    "                            dataset_type='ctw1500', transform=transforms.ToTensor())\n",
    "train_loader = DataLoaderX(dataset=train_data, batch_size=1, shuffle=False, num_workers=0)\n",
    "\n",
    "empty_count = 0\n",
    "max_values = []\n",
    "\n",
    "for i, (img, mask, distance_map) in enumerate(train_loader):\n",
    "    cv2.namedWindow(\"img\", cv2.WINDOW_NORMAL)\n",
    "    cv2.namedWindow(\"dist_map\", cv2.WINDOW_NORMAL)\n",
    "    cv2.imshow(\"img\", img.squeeze(0).numpy().transpose((1, 2, 0)))\n",
    "    cv2.imshow(\"dist_map\", distance_map.numpy().transpose((1, 2, 0)))\n",
    "    cv2.waitKey()\n",
    "    cv2.destroyAllWindows()\n",
    "\n",
    "    distance_map = distance_map.numpy().transpose((1, 2, 0))\n",
    "    region = np.where(distance_map>=0.3, 255, 0)\n",
    "#     cv2.namedWindow(\"region\", cv2.WINDOW_NORMAL)\n",
    "#     cv2.imshow('region', region)\n",
    "#     cv2.waitKey()\n",
    "#     cv2.destroyAllWindows()\n",
    "\n",
    "    cv2.imwrite('F:\\zzxs\\DistanceNet\\imgs\\CTW\\\\' + str(i) + 'region_map.jpg', region)\n",
    "    cv2.imwrite('F:\\zzxs\\DistanceNet\\imgs\\CTW\\\\' + str(i) + 'dist_map.jpg', distance_map*255)"
   ]
  },
  {
   "cell_type": "code",
   "execution_count": null,
   "metadata": {},
   "outputs": [],
   "source": []
  }
 ],
 "metadata": {
  "kernelspec": {
   "display_name": "Python 3.6.9 64-bit ('base': conda)",
   "language": "python",
   "name": "python36964bitbaseconda2974c4e6e7b8450387715953c1e26869"
  },
  "language_info": {
   "codemirror_mode": {
    "name": "ipython",
    "version": 3
   },
   "file_extension": ".py",
   "mimetype": "text/x-python",
   "name": "python",
   "nbconvert_exporter": "python",
   "pygments_lexer": "ipython3",
   "version": "3.6.9"
  }
 },
 "nbformat": 4,
 "nbformat_minor": 4
}
